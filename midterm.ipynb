{
 "cells": [
  {
   "cell_type": "markdown",
   "id": "c70af71c",
   "metadata": {},
   "source": [
    "## Test_setup"
   ]
  },
  {
   "cell_type": "code",
   "execution_count": 1,
   "id": "0212bf8e",
   "metadata": {},
   "outputs": [
    {
     "name": "stdout",
     "output_type": "stream",
     "text": [
      "train.csv shape is  (1697533, 9)\n",
      "test.csv shape is  (300000, 2)\n",
      "\n",
      "   Id   ProductId          UserId  HelpfulnessNumerator  \\\n",
      "0   0  0005019281   ADZPIG9QOCDG5                     0   \n",
      "1   1  0005019281  A35947ZP82G7JH                     0   \n",
      "2   2  0005019281  A3UORV8A9D5L2E                     0   \n",
      "3   3  0005019281  A1VKW06X1O2X7V                     0   \n",
      "4   4  0005019281  A3R27T4HADWFFJ                     0   \n",
      "\n",
      "   HelpfulnessDenominator  Score        Time  \\\n",
      "0                       0    4.0  1203984000   \n",
      "1                       0    3.0  1388361600   \n",
      "2                       0    3.0  1388361600   \n",
      "3                       0    5.0  1202860800   \n",
      "4                       0    4.0  1387670400   \n",
      "\n",
      "                                        Summary  \\\n",
      "0                     good version of a classic   \n",
      "1                        Good but not as moving   \n",
      "2         Winkler's Performance was ok at best!   \n",
      "3  It's an enjoyable twist on the classic story   \n",
      "4                              Best Scrooge yet   \n",
      "\n",
      "                                                Text  \n",
      "0  This is a charming version of the classic Dick...  \n",
      "1  It was good but not as emotionally moving as t...  \n",
      "2  Don't get me wrong, Winkler is a wonderful cha...  \n",
      "3  Henry Winkler is very good in this twist on th...  \n",
      "4  This is one of the best Scrooge movies out.  H...  \n",
      "\n",
      "   Id  Score\n",
      "0   5    NaN\n",
      "1  11    NaN\n",
      "2  17    NaN\n",
      "3  46    NaN\n",
      "4  47    NaN\n",
      "\n",
      "                 Id  HelpfulnessNumerator  HelpfulnessDenominator  \\\n",
      "count  1.697533e+06          1.697533e+06            1.697533e+06   \n",
      "mean   8.487660e+05          3.569048e+00            5.301422e+00   \n",
      "std    4.900357e+05          1.727883e+01            2.024445e+01   \n",
      "min    0.000000e+00          0.000000e+00            0.000000e+00   \n",
      "25%    4.243830e+05          0.000000e+00            0.000000e+00   \n",
      "50%    8.487660e+05          1.000000e+00            1.000000e+00   \n",
      "75%    1.273149e+06          3.000000e+00            5.000000e+00   \n",
      "max    1.697532e+06          6.084000e+03            6.510000e+03   \n",
      "\n",
      "              Score          Time  \n",
      "count  1.397533e+06  1.697533e+06  \n",
      "mean   4.111468e+00  1.262422e+09  \n",
      "std    1.196808e+00  1.289277e+08  \n",
      "min    1.000000e+00  8.793792e+08  \n",
      "25%    4.000000e+00  1.164413e+09  \n",
      "50%    5.000000e+00  1.307491e+09  \n",
      "75%    5.000000e+00  1.373242e+09  \n",
      "max    5.000000e+00  1.406074e+09  \n"
     ]
    },
    {
     "data": {
      "image/png": "[encoded data removed]",
      "text/plain": [
       "<Figure size 432x288 with 1 Axes>"
      ]
     },
     "metadata": {
      "needs_background": "light"
     },
     "output_type": "display_data"
    },
    {
     "name": "stdout",
     "output_type": "stream",
     "text": [
      "\n",
      "EVERYTHING IS PROPERLY SET UP! YOU ARE READY TO START\n"
     ]
    }
   ],
   "source": [
    "import pandas as pd\n",
    "import matplotlib.pyplot as plt\n",
    "\n",
    "trainingSet = pd.read_csv(\"./data/train.csv\")\n",
    "testingSet = pd.read_csv(\"./data/test.csv\")\n",
    "\n",
    "print(\"train.csv shape is \", trainingSet.shape)\n",
    "print(\"test.csv shape is \", testingSet.shape)\n",
    "\n",
    "print()\n",
    "\n",
    "print(trainingSet.head())\n",
    "print()\n",
    "print(testingSet.head())\n",
    "\n",
    "print()\n",
    "\n",
    "print(trainingSet.describe())\n",
    "\n",
    "trainingSet['Score'].value_counts().plot(kind='bar', legend=True, alpha=.5)\n",
    "plt.show()\n",
    "\n",
    "print()\n",
    "print(\"EVERYTHING IS PROPERLY SET UP! YOU ARE READY TO START\")"
   ]
  },
  {
   "cell_type": "markdown",
   "id": "3cc6effb",
   "metadata": {},
   "source": [
    "## Feature_extraction"
   ]
  },
  {
   "cell_type": "code",
   "execution_count": 21,
   "id": "785096a7",
   "metadata": {},
   "outputs": [],
   "source": [
    "import pandas as pd\n",
    "from sklearn.feature_extraction.text import TfidfVectorizer\n",
    "from sklearn.preprocessing import StandardScaler\n",
    "import scipy\n",
    "from scipy.sparse import hstack\n",
    "\n",
    "def process(df):\n",
    "    # This is where you can do all your processing\n",
    "\n",
    "    df['Helpfulness'] = df['HelpfulnessNumerator'] / df['HelpfulnessDenominator']\n",
    "    df['Helpfulness'] = df['Helpfulness'].fillna(0)\n",
    "    \n",
    "    df['Text'].fillna(value='Null', inplace=True)\n",
    "    df['Summary'].fillna(value='Null', inplace=True)\n",
    "    \n",
    "    text_vectorizer = TfidfVectorizer(input='content', analyzer='word', stop_words='english', max_df=0.8, min_df=0.1)  #0.1~0.15\n",
    "    summary_vectorizer = TfidfVectorizer(input='content', analyzer='word', stop_words='english', max_df=0.8, min_df=0.1)\n",
    "    text_matrix = text_vectorizer.fit_transform(df['Text'])\n",
    "    summary_matrix = summary_vectorizer.fit_transform(df['Summary'])\n",
    "    \n",
    "    scaler = StandardScaler()\n",
    "    df[['HelpfulnessNumerator', 'HelpfulnessDenominator', 'Time', 'Helpfulness']] = scaler.fit_transform(df[['HelpfulnessNumerator', 'HelpfulnessDenominator', 'Time', 'Helpfulness']])\n",
    "    numerical = scipy.sparse.csr_matrix(df[['HelpfulnessNumerator', 'HelpfulnessDenominator', 'Time', 'Helpfulness']].values)\n",
    "\n",
    "    X = hstack([text_matrix, summary_matrix, numerical], format='csr')\n",
    "    \n",
    "    df = df.drop(['HelpfulnessNumerator', 'HelpfulnessDenominator', 'Time', 'Helpfulness'], axis=1)\n",
    "    row_list = X.getrow(0)\n",
    "    row_list = row_list.toarray()\n",
    "    features_num = len(row_list.tolist()[0])\n",
    "    for i in range(features_num):\n",
    "        df[\"features\"+str(i)] = \"\"\n",
    "    samples_num = len(df)\n",
    "    for i in range(samples_num):\n",
    "        row_list = X.getrow(i)\n",
    "        row_list = row_list.toarray()\n",
    "        for j in range(features_num):\n",
    "            df.at[i, \"features\"+str(j)] = row_list.tolist()[0][j] \n",
    "    return df\n",
    "\n",
    "\n",
    "# Load the dataset\n",
    "trainingSet = pd.read_csv(\"./data/train.csv\")\n",
    "\n",
    "# Process the DataFrame\n",
    "train_processed = process(trainingSet)\n",
    "\n",
    "# Load test set\n",
    "submissionSet = pd.read_csv(\"./data/test.csv\")\n",
    "\n",
    "# Merge on Id so that the test set can have feature columns as well\n",
    "testX= pd.merge(train_processed, submissionSet, left_on='Id', right_on='Id')\n",
    "testX = testX.drop(columns=['Score_x'])\n",
    "testX = testX.rename(columns={'Score_y': 'Score'})\n",
    "\n",
    "# The training set is where the score is not null\n",
    "trainX =  train_processed[train_processed['Score'].notnull()]\n",
    "\n",
    "testX.to_csv(\"./data/X_test.csv\", index=False)\n",
    "trainX.to_csv(\"./data/X_train.csv\", index=False)\n"
   ]
  },
  {
   "cell_type": "code",
   "execution_count": 24,
   "id": "f93c5ac8",
   "metadata": {},
   "outputs": [
    {
     "data": {
      "text/plain": [
       "0.0"
      ]
     },
     "execution_count": 24,
     "metadata": {},
     "output_type": "execute_result"
    }
   ],
   "source": [
    "trainX['features0'][0]"
   ]
  },
  {
   "cell_type": "markdown",
   "id": "e1f90113",
   "metadata": {},
   "source": [
    "## Predict-knn"
   ]
  },
  {
   "cell_type": "code",
   "execution_count": 25,
   "id": "17a9bd63",
   "metadata": {},
   "outputs": [
    {
     "name": "stdout",
     "output_type": "stream",
     "text": [
      "Accuracy on testing set =  0.5472574588418474\n"
     ]
    },
    {
     "data": {
      "image/png": "[encoded data removed]",
      "text/plain": [
       "<Figure size 432x288 with 2 Axes>"
      ]
     },
     "metadata": {
      "needs_background": "light"
     },
     "output_type": "display_data"
    }
   ],
   "source": [
    "import pandas as pd\n",
    "import seaborn as sns\n",
    "import matplotlib.pyplot as plt\n",
    "from sklearn.neighbors import KNeighborsClassifier\n",
    "from sklearn.model_selection import train_test_split\n",
    "from sklearn.metrics import accuracy_score, confusion_matrix\n",
    "#from sklearn.linear_model import LogisticRegression\n",
    "\n",
    "# Load files into DataFrames\n",
    "X_train = pd.read_csv(\"./data/X_train.csv\")\n",
    "X_submission = pd.read_csv(\"./data/X_test.csv\")\n",
    "\n",
    "# Split training set into training and testing set\n",
    "X_train, X_test, Y_train, Y_test = train_test_split(\n",
    "        X_train.drop(['Score'], axis=1),\n",
    "        X_train['Score'],\n",
    "        test_size=1/4.0,\n",
    "        random_state=0\n",
    "    )\n",
    "\n",
    "# This is where you can do more feature selection\n",
    "X_train_processed = X_train.drop(columns=['Id', 'ProductId', 'UserId', 'Text', 'Summary'])\n",
    "X_test_processed = X_test.drop(columns=['Id', 'ProductId', 'UserId', 'Text', 'Summary'])\n",
    "X_submission_processed = X_submission.drop(columns=['Id', 'ProductId', 'UserId', 'Text', 'Summary', 'Score'])\n",
    "\n",
    "# Learn the model\n",
    "#model = LogisticRegression(random_state = 0)\n",
    "#model.fit(X_train_processed, Y_train)\n",
    "model = KNeighborsClassifier(n_neighbors=20).fit(X_train_processed, Y_train)\n",
    "\n",
    "# Predict the score using the model\n",
    "Y_test_predictions = model.predict(X_test_processed)\n",
    "X_submission['Score'] = model.predict(X_submission_processed)\n",
    "\n",
    "# Evaluate your model on the testing set\n",
    "print(\"Accuracy on testing set = \", accuracy_score(Y_test, Y_test_predictions))\n",
    "\n",
    "# Plot a confusion matrix\n",
    "cm = confusion_matrix(Y_test, Y_test_predictions, normalize='true')\n",
    "sns.heatmap(cm, annot=True)\n",
    "plt.title('Confusion matrix of the classifier')\n",
    "plt.xlabel('Predicted')\n",
    "plt.ylabel('True')\n",
    "plt.show()\n",
    "\n",
    "# Create the submission file\n",
    "submission = X_submission[['Id', 'Score']]\n",
    "submission.to_csv(\"./data/submission.csv\", index=False)\n"
   ]
  }
 ],
 "metadata": {
  "kernelspec": {
   "display_name": "Python 3 (ipykernel)",
   "language": "python",
   "name": "python3"
  },
  "language_info": {
   "codemirror_mode": {
    "name": "ipython",
    "version": 3
   },
   "file_extension": ".py",
   "mimetype": "text/x-python",
   "name": "python",
   "nbconvert_exporter": "python",
   "pygments_lexer": "ipython3",
   "version": "3.9.7"
  }
 },
 "nbformat": 4,
 "nbformat_minor": 5
}
